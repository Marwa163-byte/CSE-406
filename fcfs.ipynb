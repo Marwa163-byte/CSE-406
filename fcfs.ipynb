{
  "nbformat": 4,
  "nbformat_minor": 0,
  "metadata": {
    "colab": {
      "provenance": []
    },
    "kernelspec": {
      "name": "python3",
      "display_name": "Python 3"
    },
    "language_info": {
      "name": "python"
    }
  },
  "cells": [
    {
      "cell_type": "code",
      "execution_count": 24,
      "metadata": {
        "colab": {
          "base_uri": "https://localhost:8080/"
        },
        "id": "D6Nfa4cMsLgT",
        "outputId": "821b7dfe-0a5d-4e08-cb60-f6337616a2c6"
      },
      "outputs": [
        {
          "output_type": "stream",
          "name": "stdout",
          "text": [
            "Processes   Burst Time   Arrival Time   Waiting Time   Turn Around Time   Completion Time\n",
            "    1 \t\t 3 \t\t 0 \t\t 0 \t\t 3 \t\t      3\n",
            "    2 \t\t 2 \t\t 1 \t\t 2 \t\t 4 \t\t      5\n",
            "    3 \t\t 1 \t\t 2 \t\t 3 \t\t 4 \t\t      6\n",
            "    4 \t\t 4 \t\t 3 \t\t 3 \t\t 7 \t\t      10\n",
            "\n",
            "Average waiting time = 2.00\n"
          ]
        }
      ],
      "source": [
        "\n",
        "def findWaitingTime(processes, n, bt, wt, at, service_time):\n",
        "    service_time[0] = at[0]\n",
        "    wt[0] = 0\n",
        "\n",
        "    for i in range(1, n):\n",
        "\n",
        "        service_time[i] = max(service_time[i - 1] + bt[i - 1], at[i])\n",
        "\n",
        "\n",
        "        wt[i] = service_time[i] - at[i]\n",
        "\n",
        "        if wt[i] < 0:\n",
        "            wt[i] = 0\n",
        "\n",
        "#Turn Around Time\n",
        "def findTurnAroundTime(processes, n, bt, wt, tat, service_time, at):\n",
        "    for i in range(n):\n",
        "        # Completion time = start time + burst time\n",
        "        completion_time = service_time[i] + bt[i]\n",
        "        # Turnaround = Completion - Arrival time\n",
        "        tat[i] = completion_time - at[i]\n",
        "\n",
        "#average times and print results\n",
        "def findavgTime(processes, n, bt, at):\n",
        "    wt = [0] * n\n",
        "    tat = [0] * n\n",
        "    service_time = [0] * n\n",
        "\n",
        "\n",
        "    findWaitingTime(processes, n, bt, wt, at, service_time)\n",
        "\n",
        "\n",
        "    findTurnAroundTime(processes, n, bt, wt, tat, service_time, at)\n",
        "\n",
        "\n",
        "    print(\"Processes   Burst Time   Arrival Time   Waiting Time   Turn Around Time   Completion Time\")\n",
        "    total_wt = 0\n",
        "    total_tat = 0\n",
        "    for i in range(n):\n",
        "        completion_time = service_time[i] + bt[i]\n",
        "        total_wt += wt[i]\n",
        "        total_tat += tat[i]\n",
        "        print(\"   \", processes[i], \"\\t\\t\", bt[i], \"\\t\\t\", at[i],\n",
        "              \"\\t\\t\", wt[i], \"\\t\\t\", tat[i], \"\\t\\t     \", completion_time)\n",
        "    print(\"\\nAverage waiting time = %.2f\" % (total_wt / n))\n",
        "\n",
        "\n",
        "\n",
        "if __name__ == \"__main__\":\n",
        "    processes = [1, 2, 3, 4]\n",
        "    n = 4\n",
        "    burst_time = [3, 2, 1, 4]\n",
        "    arrival_time = [0, 1, 2, 3]\n",
        "\n",
        "    findavgTime(processes, n, burst_time, arrival_time)\n"
      ]
    }
  ]
}